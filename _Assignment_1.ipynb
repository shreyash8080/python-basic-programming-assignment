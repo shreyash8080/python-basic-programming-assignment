{
 "cells": [
  {
   "cell_type": "markdown",
   "id": "liberal-account",
   "metadata": {},
   "source": [
    "<b>Number 1 - \n",
    "- Question -\n",
    "    \n",
    "> What is the purpose of Python's OOP?\n",
    "\n",
    "- Answer -\n",
    "    \n",
    "> Object-oriented programming: As the name suggests, Object-Oriented Programming or OOPs refers to languages that uses objects in programming. Object-oriented programming aims to implement real-world entities like inheritance, hiding, polymorphism etc in programming. The main aim of OOP is to bind together the data and the functions that operate on them so that no other part of the code can access this data except that function.\n",
    "\n",
    "    \n",
    "<b>------------------------------------------------------------------------------------------------------------------------------------------------------------------------------------------------------------------"
   ]
  },
  {
   "cell_type": "markdown",
   "id": "sharing-council",
   "metadata": {},
   "source": [
    "<b>Number 2 - \n",
    "- Question -\n",
    "    \n",
    "> Where does an inheritance search look for an attribute?\n",
    "\n",
    "- Answer -\n",
    "    \n",
    "> The inheritance search is simply a search of the tree from bottom to top looking for the lowest occurrence of an attribute name.\n",
    "\n",
    "    \n",
    "<b>------------------------------------------------------------------------------------------------------------------------------------------------------------------------------------------------------------------"
   ]
  },
  {
   "cell_type": "markdown",
   "id": "acute-talent",
   "metadata": {},
   "source": [
    "<b>Number 3 - \n",
    "- Question -\n",
    "    \n",
    "> How do you distinguish between a class object and an instance object?\n",
    "\n",
    "- Answer -\n",
    "    \n",
    "> Class object : A compound data type that is often used to model a thing or concept in the real world. It bundles together the data and the operations that are relevant for that kind of data. Instance and object are used interchangeably.\n",
    "    \n",
    "> Instance Object : An object whose type is of some class.\n",
    "\n",
    "> An instance is a specific representation of an object. An object is a generic thing while an instance is a single object that has been created in memory\n",
    "    \n",
    "<b>------------------------------------------------------------------------------------------------------------------------------------------------------------------------------------------------------------------"
   ]
  },
  {
   "cell_type": "markdown",
   "id": "outdoor-setup",
   "metadata": {},
   "source": [
    "<b>Number 4 - \n",
    "- Question -\n",
    "    \n",
    "> What makes the first argument in a class’s method function special?\n",
    "\n",
    "- Answer -\n",
    "    \n",
    "> In object-oriented programming, whenever we define methods for a class, we use self as the first parameter in each case.\n",
    "\n",
    "    \n",
    "<b>------------------------------------------------------------------------------------------------------------------------------------------------------------------------------------------------------------------"
   ]
  },
  {
   "cell_type": "markdown",
   "id": "caring-viewer",
   "metadata": {},
   "source": [
    "<b>Number 5 - \n",
    "- Question -\n",
    "    \n",
    "> What is the purpose of the __init__ method?\n",
    "\n",
    "- Answer -\n",
    "    \n",
    "> \"__init__\" is a reseved method in python classes. It is called as a constructor in object oriented terminology. This method is called when an object is created from a class and it allows the class to initialize the attributes of the class.\n",
    "\n",
    "    \n",
    "<b>------------------------------------------------------------------------------------------------------------------------------------------------------------------------------------------------------------------"
   ]
  },
  {
   "cell_type": "markdown",
   "id": "complimentary-cabinet",
   "metadata": {},
   "source": [
    "<b>Number 6 - \n",
    "- Question -\n",
    "    \n",
    "> What is the process for creating a class instance?\n",
    "\n",
    "- Answer -\n",
    "    \n",
    "> When you create an object, you are creating an instance of a class, therefore \"instantiating\" a class.\n",
    "\n",
    "    \n"
   ]
  },
  {
   "cell_type": "code",
   "execution_count": 2,
   "id": "3dbe6e71",
   "metadata": {},
   "outputs": [
    {
     "name": "stdout",
     "output_type": "stream",
     "text": [
      "5\n"
     ]
    }
   ],
   "source": [
    "class MyClass:\n",
    "  x = 5\n",
    "p1 = MyClass()\n",
    "print(p1.x)"
   ]
  },
  {
   "cell_type": "markdown",
   "id": "9037f1c1",
   "metadata": {},
   "source": [
    "<b>------------------------------------------------------------------------------------------------------------------------------------------------------------------------------------------------------------------"
   ]
  },
  {
   "cell_type": "markdown",
   "id": "special-graduation",
   "metadata": {},
   "source": [
    "<b>Number 7 - \n",
    "- Question -\n",
    "    \n",
    "> What is the process for creating a class?\n",
    "\n",
    "- Answer -\n",
    "    \n",
    "> class definitions begin with a class keyword.\n",
    "\n",
    "    \n"
   ]
  },
  {
   "cell_type": "code",
   "execution_count": 3,
   "id": "3ebb378a",
   "metadata": {},
   "outputs": [],
   "source": [
    "class demo:\n",
    "    '''This is a docstring. I have created a new class'''\n",
    "    pass"
   ]
  },
  {
   "cell_type": "markdown",
   "id": "e5d98314",
   "metadata": {},
   "source": [
    "<b>------------------------------------------------------------------------------------------------------------------------------------------------------------------------------------------------------------------"
   ]
  },
  {
   "cell_type": "markdown",
   "id": "638fd4ea",
   "metadata": {},
   "source": [
    "<b>Number 8 - \n",
    "- Question -\n",
    "    \n",
    "> How would you define the superclasses of a class?\n",
    "\n",
    "- Answer -\n",
    "    \n",
    "> The super() function returns a parent class object and can be used to access the attributes or methods of the parent class inside the child class.\n",
    "\n",
    "    \n",
    "<b>------------------------------------------------------------------------------------------------------------------------------------------------------------------------------------------------------------------"
   ]
  }
 ],
 "metadata": {
  "kernelspec": {
   "display_name": "Python 3",
   "language": "python",
   "name": "python3"
  },
  "language_info": {
   "codemirror_mode": {
    "name": "ipython",
    "version": 3
   },
   "file_extension": ".py",
   "mimetype": "text/x-python",
   "name": "python",
   "nbconvert_exporter": "python",
   "pygments_lexer": "ipython3",
   "version": "3.8.8"
  },
  "toc": {
   "base_numbering": 1,
   "nav_menu": {},
   "number_sections": true,
   "sideBar": true,
   "skip_h1_title": false,
   "title_cell": "Table of Contents",
   "title_sidebar": "Contents",
   "toc_cell": false,
   "toc_position": {},
   "toc_section_display": true,
   "toc_window_display": false
  }
 },
 "nbformat": 4,
 "nbformat_minor": 5
}
