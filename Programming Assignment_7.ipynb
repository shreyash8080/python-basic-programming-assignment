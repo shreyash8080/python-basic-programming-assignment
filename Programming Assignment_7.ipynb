{
 "cells": [
  {
   "cell_type": "markdown",
   "id": "liberal-account",
   "metadata": {},
   "source": [
    "<b>Number 1 - \n",
    "- Question -\n",
    "    \n",
    "> Write a Python Program to find sum of array?\n",
    "\n",
    "- Answer -\n",
    "    \n",
    ">\n",
    "\n",
    "    \n"
   ]
  },
  {
   "cell_type": "code",
   "execution_count": 20,
   "id": "c3a66da1",
   "metadata": {
    "scrolled": true
   },
   "outputs": [
    {
     "name": "stdout",
     "output_type": "stream",
     "text": [
      "Enter elements of a arr separated by space: 4 5\n",
      "arr:  ['4', '5']\n",
      "Sum of the array is  9\n"
     ]
    }
   ],
   "source": [
    "def array_sum(arr):\n",
    "    for i in range(len(arr)):\n",
    "        arr[i] = int(arr[i])\n",
    "    return sum(arr)\n",
    "arr_raw = input('Enter elements of a arr separated by space: ')\n",
    "arr = arr_raw.split()\n",
    "print('arr: ', arr)\n",
    "ans = array_sum(arr)\n",
    "print ('Sum of the array is ', ans)"
   ]
  },
  {
   "cell_type": "markdown",
   "id": "32196abc",
   "metadata": {},
   "source": [
    "<b>------------------------------------------------------------------------------------------------------------------------------------------------------------------------------------------------------------------"
   ]
  },
  {
   "cell_type": "markdown",
   "id": "sharing-council",
   "metadata": {},
   "source": [
    "<b>Number 2 - \n",
    "- Question -\n",
    "    \n",
    "> Write a Python Program to find largest element in an array?\n",
    "\n",
    "- Answer -\n",
    "    \n",
    ">\n",
    "\n",
    "    \n"
   ]
  },
  {
   "cell_type": "code",
   "execution_count": 46,
   "id": "42692474",
   "metadata": {},
   "outputs": [
    {
     "name": "stdout",
     "output_type": "stream",
     "text": [
      "Largest in given array is 7777\n"
     ]
    }
   ],
   "source": [
    "def largest(arr,n):\n",
    "    max = arr[0]\n",
    "    for i in range(1, n):\n",
    "        if arr[i] > max:\n",
    "            max = arr[i]\n",
    "    return max\n",
    "arr = [1,2,3,6,5,4,77,7777]\n",
    "n = len(arr)\n",
    "Ans = largest(arr,n)\n",
    "print (\"Largest in given array is\",Ans)"
   ]
  },
  {
   "cell_type": "markdown",
   "id": "fb58b123",
   "metadata": {},
   "source": [
    "<b>------------------------------------------------------------------------------------------------------------------------------------------------------------------------------------------------------------------"
   ]
  },
  {
   "cell_type": "markdown",
   "id": "acute-talent",
   "metadata": {},
   "source": [
    "<b>Number 3 - \n",
    "- Question -\n",
    "    \n",
    "> Write a Python Program for array rotation?\n",
    "\n",
    "- Answer -\n",
    "    \n",
    ">\n",
    "\n",
    "    "
   ]
  },
  {
   "cell_type": "code",
   "execution_count": 63,
   "id": "ba60e43e",
   "metadata": {},
   "outputs": [
    {
     "name": "stdout",
     "output_type": "stream",
     "text": [
      "Enter elements of a arr separated by space: 1 2 3 4 5 6 7 8 9\n",
      "The array is :  ['1', '2', '3', '4', '5', '6', '7', '8', '9']\n",
      "Enter no of elements : 2\n",
      "Rotated list is\n",
      "['3', '4', '5', '6', '7', '8', '9', '1', '2']\n"
     ]
    }
   ],
   "source": [
    "def rotateList(arr,d,n):\n",
    "    arr[:]=arr[d:n]+arr[0:d]\n",
    "    return arr\n",
    "\n",
    "arr_raw = input('Enter elements of a arr separated by space: ')\n",
    "arr = arr_raw.split()\n",
    "print(\"The array is : \", arr)\n",
    "elements = int(input(\"Enter no of elements : \"))\n",
    "print(\"Rotated list is\")\n",
    "print(rotateList(arr,elements,len(arr)))"
   ]
  },
  {
   "cell_type": "markdown",
   "id": "07925569",
   "metadata": {},
   "source": [
    "<b>------------------------------------------------------------------------------------------------------------------------------------------------------------------------------------------------------------------"
   ]
  },
  {
   "cell_type": "markdown",
   "id": "outdoor-setup",
   "metadata": {},
   "source": [
    "<b>Number 4 - \n",
    "- Question -\n",
    "    \n",
    "> Write a Python Program to Split the array and add the first part to the end?\n",
    "\n",
    "- Answer -\n",
    "    \n",
    ">\n",
    "\n",
    "    \n"
   ]
  },
  {
   "cell_type": "code",
   "execution_count": 79,
   "id": "3b79eafb",
   "metadata": {},
   "outputs": [
    {
     "name": "stdout",
     "output_type": "stream",
     "text": [
      "Enter elements of a arr separated by space: 1 2 3 4 5 6 7 8 9\n",
      "Enter position : 2\n",
      "After Spliting and adding the first part to the end, the array is: \n",
      "3 4 5 6 7 8 9 1 2 "
     ]
    }
   ],
   "source": [
    "def split_array(a, n, k): \n",
    "   b = a[:k]\n",
    "   return (a[k::]+b[::])\n",
    "arr_raw = input('Enter elements of a arr separated by space: ')\n",
    "arr = arr_raw.split()\n",
    "n = len(arr)\n",
    "position = int(input(\"Enter position : \"))\n",
    "arr = split_array(arr, n, position)\n",
    "print(\"After Spliting and adding the first part to the end, the array is: \")\n",
    "for i in range(0, n): \n",
    "    print(arr[i], end = ' ')"
   ]
  },
  {
   "cell_type": "markdown",
   "id": "d05afcfc",
   "metadata": {},
   "source": [
    "<b>------------------------------------------------------------------------------------------------------------------------------------------------------------------------------------------------------------------"
   ]
  },
  {
   "cell_type": "markdown",
   "id": "caring-viewer",
   "metadata": {},
   "source": [
    "<b>Number 5 - \n",
    "- Question -\n",
    "    \n",
    "> Write a Python Program to check if given array is Monotonic?\n",
    "\n",
    "- Answer -\n",
    "    \n",
    ">\n",
    "\n",
    "    \n"
   ]
  },
  {
   "cell_type": "code",
   "execution_count": 84,
   "id": "07f07342",
   "metadata": {},
   "outputs": [
    {
     "name": "stdout",
     "output_type": "stream",
     "text": [
      "True\n"
     ]
    }
   ],
   "source": [
    "def Monotonic(A): \n",
    "    return (all(A[i] <= A[i + 1] for i in range(len(A) - 1)) or\n",
    "            all(A[i] >= A[i + 1] for i in range(len(A) - 1)))\n",
    "A = [6, 5, 4, 4]\n",
    "print(Monotonic(A))"
   ]
  },
  {
   "cell_type": "markdown",
   "id": "66754b3b",
   "metadata": {},
   "source": [
    "<b>------------------------------------------------------------------------------------------------------------------------------------------------------------------------------------------------------------------"
   ]
  }
 ],
 "metadata": {
  "kernelspec": {
   "display_name": "Python 3",
   "language": "python",
   "name": "python3"
  },
  "language_info": {
   "codemirror_mode": {
    "name": "ipython",
    "version": 3
   },
   "file_extension": ".py",
   "mimetype": "text/x-python",
   "name": "python",
   "nbconvert_exporter": "python",
   "pygments_lexer": "ipython3",
   "version": "3.8.8"
  },
  "toc": {
   "base_numbering": 1,
   "nav_menu": {},
   "number_sections": true,
   "sideBar": true,
   "skip_h1_title": false,
   "title_cell": "Table of Contents",
   "title_sidebar": "Contents",
   "toc_cell": false,
   "toc_position": {},
   "toc_section_display": true,
   "toc_window_display": false
  }
 },
 "nbformat": 4,
 "nbformat_minor": 5
}
