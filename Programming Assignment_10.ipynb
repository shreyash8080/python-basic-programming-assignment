{
 "cells": [
  {
   "cell_type": "markdown",
   "id": "liberal-account",
   "metadata": {},
   "source": [
    "<b>Number 1 - \n",
    "- Question -\n",
    "    \n",
    "> Write a Python program to find sum of elements in list?\n",
    "\n",
    "- Answer -\n",
    "    \n",
    ">\n",
    "\n",
    "    \n"
   ]
  },
  {
   "cell_type": "code",
   "execution_count": 17,
   "id": "3560c3ae",
   "metadata": {},
   "outputs": [
    {
     "name": "stdout",
     "output_type": "stream",
     "text": [
      "Enter number of elements : 3\n",
      "1\n",
      "2\n",
      "3\n",
      "Elements is list are :  [1, 2, 3]\n",
      "Sum of elements in list :  6\n"
     ]
    }
   ],
   "source": [
    "lst = []\n",
    "n = int(input(\"Enter number of elements : \"))\n",
    "for i in range(0, n):\n",
    "    ele = int(input())\n",
    "    lst.append(ele)\n",
    "    total = sum(lst)\n",
    "print(\"Elements is list are : \",lst)\n",
    "print(\"Sum of elements in list : \",total)"
   ]
  },
  {
   "cell_type": "markdown",
   "id": "fad813f8",
   "metadata": {},
   "source": [
    "<b>------------------------------------------------------------------------------------------------------------------------------------------------------------------------------------------------------------------"
   ]
  },
  {
   "cell_type": "markdown",
   "id": "sharing-council",
   "metadata": {},
   "source": [
    "<b>Number 2 - \n",
    "- Question -\n",
    "    \n",
    "> Write a Python program to Multiply all numbers in the list?\n",
    "\n",
    "- Answer -\n",
    "    \n",
    ">\n",
    "\n"
   ]
  },
  {
   "cell_type": "code",
   "execution_count": 20,
   "id": "5eeec41f",
   "metadata": {},
   "outputs": [
    {
     "name": "stdout",
     "output_type": "stream",
     "text": [
      "Enter number of elements : 3\n",
      "1\n",
      "2\n",
      "3\n",
      "Elements is list are :  [1, 2, 3]\n",
      "Multiplication of elements in list : 6\n"
     ]
    }
   ],
   "source": [
    "import numpy\n",
    "lst1 = []\n",
    "n1 = int(input(\"Enter number of elements : \"))\n",
    "for i in range(0, n1):\n",
    "    ele1 = int(input())\n",
    "    lst1.append(ele1)\n",
    "print(\"Elements is list are : \",lst1)\n",
    "result1 = numpy.prod(lst1)\n",
    "print(\"Multiplication of elements in list :\",result1)"
   ]
  },
  {
   "cell_type": "markdown",
   "id": "77bbdb57",
   "metadata": {},
   "source": [
    "<b>------------------------------------------------------------------------------------------------------------------------------------------------------------------------------------------------------------------"
   ]
  },
  {
   "cell_type": "markdown",
   "id": "acute-talent",
   "metadata": {},
   "source": [
    "<b>Number 3 - \n",
    "- Question -\n",
    "    \n",
    "> Write a Python program to find smallest number in a list?\n",
    "\n",
    "- Answer -\n",
    "    \n",
    ">\n",
    "\n",
    "    \n"
   ]
  },
  {
   "cell_type": "code",
   "execution_count": 22,
   "id": "8c339451",
   "metadata": {},
   "outputs": [
    {
     "name": "stdout",
     "output_type": "stream",
     "text": [
      "Enter number of elements : 5\n",
      "6\n",
      "8\n",
      "46\n",
      "2\n",
      "4\n",
      "Elements is list are :  [6, 8, 46, 2, 4]\n",
      "Smallest element in list is: 2\n"
     ]
    }
   ],
   "source": [
    "lst2 = []\n",
    "n2 = int(input(\"Enter number of elements : \"))\n",
    "for i in range(0, n2):\n",
    "    ele2 = int(input())\n",
    "    lst2.append(ele2)\n",
    "print(\"Elements is list are : \",lst2)\n",
    "print(\"Smallest element in list is:\", min(lst2))"
   ]
  },
  {
   "cell_type": "markdown",
   "id": "9449841f",
   "metadata": {},
   "source": [
    "<b>------------------------------------------------------------------------------------------------------------------------------------------------------------------------------------------------------------------"
   ]
  },
  {
   "cell_type": "markdown",
   "id": "outdoor-setup",
   "metadata": {},
   "source": [
    "<b>Number 4 - \n",
    "- Question -\n",
    "    \n",
    "> Write a Python program to find largest number in a list?\n",
    "\n",
    "- Answer -\n",
    "    \n",
    ">\n",
    "\n",
    "    \n"
   ]
  },
  {
   "cell_type": "code",
   "execution_count": 24,
   "id": "bcfbcd55",
   "metadata": {},
   "outputs": [
    {
     "name": "stdout",
     "output_type": "stream",
     "text": [
      "Enter number of elements : 5\n",
      "6\n",
      "8\n",
      "46\n",
      "2\n",
      "4\n",
      "Elements is list are :  [6, 8, 46, 2, 4]\n",
      "Largest element in list is: 46\n"
     ]
    }
   ],
   "source": [
    "lst3 = []\n",
    "n3 = int(input(\"Enter number of elements : \"))\n",
    "for i in range(0, n3):\n",
    "    ele3 = int(input())\n",
    "    lst3.append(ele3)\n",
    "print(\"Elements is list are : \",lst3)\n",
    "print(\"Largest element in list is:\", max(lst2))"
   ]
  },
  {
   "cell_type": "markdown",
   "id": "006337b8",
   "metadata": {},
   "source": [
    "<b>------------------------------------------------------------------------------------------------------------------------------------------------------------------------------------------------------------------"
   ]
  },
  {
   "cell_type": "markdown",
   "id": "caring-viewer",
   "metadata": {},
   "source": [
    "<b>Number 5 - \n",
    "- Question -\n",
    "    \n",
    "> Write a Python program to find second largest number in a list?\n",
    "\n",
    "- Answer -\n",
    "    \n",
    ">\n",
    "\n",
    "    \n"
   ]
  },
  {
   "cell_type": "code",
   "execution_count": 28,
   "id": "dba7b8dc",
   "metadata": {},
   "outputs": [
    {
     "name": "stdout",
     "output_type": "stream",
     "text": [
      "Enter number of elements : 6\n",
      "1\n",
      "2\n",
      "3\n",
      "4\n",
      "5\n",
      "6\n",
      "Elements is list are :  [1, 2, 3, 4, 5, 6]\n",
      "Second largest element is: 5\n"
     ]
    }
   ],
   "source": [
    "lst4 = []\n",
    "n4 = int(input(\"Enter number of elements : \"))\n",
    "for i in range(0, n4):\n",
    "    ele4 = int(input())\n",
    "    lst4.append(ele4)\n",
    "    lst4.sort()\n",
    "print(\"Elements is list are : \",lst4)\n",
    "print(\"Second largest element is:\", lst4[-2])"
   ]
  },
  {
   "cell_type": "markdown",
   "id": "cc1d94b9",
   "metadata": {},
   "source": [
    "<b>------------------------------------------------------------------------------------------------------------------------------------------------------------------------------------------------------------------"
   ]
  },
  {
   "cell_type": "markdown",
   "id": "complimentary-cabinet",
   "metadata": {},
   "source": [
    "<b>Number 6 - \n",
    "- Question -\n",
    "    \n",
    "> Write a Python program to find N largest elements from a list?\n",
    "\n",
    "- Answer -\n",
    "    \n",
    ">\n",
    "\n"
   ]
  },
  {
   "cell_type": "code",
   "execution_count": 39,
   "id": "19323257",
   "metadata": {},
   "outputs": [
    {
     "name": "stdout",
     "output_type": "stream",
     "text": [
      "Enter number of elements : 5\n",
      "8\n",
      "4\n",
      "7\n",
      "98\n",
      "5\n",
      "Elements is list are :  [4, 5, 7, 8, 98]\n",
      "Number of elements : 2\n",
      "N largest elements are: [8, 98]\n"
     ]
    }
   ],
   "source": [
    "lst5 = []\n",
    "n5 = int(input(\"Enter number of elements : \"))\n",
    "for i in range(0, n5):\n",
    "    ele5 = int(input())\n",
    "    lst5.append(ele5)\n",
    "    lst5.sort()\n",
    "print(\"Elements is list are : \",lst5)\n",
    "m = int(input(\"Number of elements : \"))\n",
    "print(\"N largest elements are:\", lst5[-m:])"
   ]
  },
  {
   "cell_type": "markdown",
   "id": "df55b008",
   "metadata": {},
   "source": [
    "<b>------------------------------------------------------------------------------------------------------------------------------------------------------------------------------------------------------------------"
   ]
  },
  {
   "cell_type": "markdown",
   "id": "special-graduation",
   "metadata": {},
   "source": [
    "<b>Number 7 - \n",
    "- Question -\n",
    "    \n",
    "> Write a Python program to print even numbers in a list?\n",
    "\n",
    "- Answer -\n",
    "    \n",
    ">\n",
    "\n",
    "    \n"
   ]
  },
  {
   "cell_type": "code",
   "execution_count": 43,
   "id": "0a85e475",
   "metadata": {},
   "outputs": [
    {
     "name": "stdout",
     "output_type": "stream",
     "text": [
      "Enter number of elements : 5\n",
      "1\n",
      "2\n",
      "3\n",
      "4\n",
      "5\n",
      "Elements is list are :  [1, 2, 3, 4, 5]\n",
      "Even Numbers in the list are : \n",
      "2 4 "
     ]
    }
   ],
   "source": [
    "lst6 = []\n",
    "n6 = int(input(\"Enter number of elements : \"))\n",
    "for i in range(0, n6):\n",
    "    ele6 = int(input())\n",
    "    lst6.append(ele6)\n",
    "print(\"Elements is list are : \",lst6)\n",
    "print(\"Even Numbers in the list are : \")\n",
    "for num in lst6:\n",
    "    if num % 2 == 0:\n",
    "       print(num, end = \" \")"
   ]
  },
  {
   "cell_type": "markdown",
   "id": "c4894111",
   "metadata": {},
   "source": [
    "<b>------------------------------------------------------------------------------------------------------------------------------------------------------------------------------------------------------------------"
   ]
  },
  {
   "cell_type": "markdown",
   "id": "ffd064fe",
   "metadata": {},
   "source": [
    "<b>Number 8 - \n",
    "- Question -\n",
    "    \n",
    "> Write a Python program to print odd numbers in a List?\n",
    "\n",
    "- Answer -\n",
    "    \n",
    ">\n",
    "\n",
    "    \n"
   ]
  },
  {
   "cell_type": "code",
   "execution_count": 44,
   "id": "763b4539",
   "metadata": {},
   "outputs": [
    {
     "name": "stdout",
     "output_type": "stream",
     "text": [
      "Enter number of elements : 5\n",
      "1\n",
      "2\n",
      "3\n",
      "4\n",
      "5\n",
      "Elements is list are :  [1, 2, 3, 4, 5]\n",
      "Odd Numbers in the list are : \n",
      "1 3 5 "
     ]
    }
   ],
   "source": [
    "lst7 = []\n",
    "n7 = int(input(\"Enter number of elements : \"))\n",
    "for i in range(0, n7):\n",
    "    ele7 = int(input())\n",
    "    lst7.append(ele7)\n",
    "print(\"Elements is list are : \",lst7)\n",
    "print(\"Odd Numbers in the list are : \")\n",
    "for num in lst7:\n",
    "    if num % 2 != 0:\n",
    "       print(num, end = \" \")"
   ]
  },
  {
   "cell_type": "markdown",
   "id": "fb12f93c",
   "metadata": {},
   "source": [
    "<b>------------------------------------------------------------------------------------------------------------------------------------------------------------------------------------------------------------------"
   ]
  },
  {
   "cell_type": "markdown",
   "id": "40783e2a",
   "metadata": {},
   "source": [
    "<b>Number 9 - \n",
    "- Question -\n",
    "    \n",
    "> Write a Python program to Remove empty List from List?\n",
    "\n",
    "- Answer -\n",
    "    \n",
    ">\n",
    "\n"
   ]
  },
  {
   "cell_type": "code",
   "execution_count": 45,
   "id": "15b48cf9",
   "metadata": {},
   "outputs": [
    {
     "name": "stdout",
     "output_type": "stream",
     "text": [
      "The original list is : [5, 6, [], 3, [], [], 9]\n",
      "List after empty list removal : [5, 6, 3, 9]\n"
     ]
    }
   ],
   "source": [
    "test_list = [5, 6, [], 3, [], [], 9]\n",
    "print(\"The original list is : \" + str(test_list))\n",
    "res = list(filter(None, test_list))\n",
    "print (\"List after empty list removal : \" + str(res))"
   ]
  },
  {
   "cell_type": "markdown",
   "id": "37b6a30e",
   "metadata": {},
   "source": [
    "<b>------------------------------------------------------------------------------------------------------------------------------------------------------------------------------------------------------------------"
   ]
  },
  {
   "cell_type": "markdown",
   "id": "03f196f5",
   "metadata": {},
   "source": [
    "<b>Number 10 - \n",
    "- Question -\n",
    "    \n",
    "> Write a Python program to Cloning or Copying a list?\n",
    "\n",
    "- Answer -\n",
    "    \n",
    ">\n",
    "\n",
    "    \n"
   ]
  },
  {
   "cell_type": "code",
   "execution_count": 46,
   "id": "343e8b77",
   "metadata": {},
   "outputs": [
    {
     "name": "stdout",
     "output_type": "stream",
     "text": [
      "Enter number of elements : 5\n",
      "2\n",
      "5\n",
      "4\n",
      "89\n",
      "7\n",
      "Original List: [2, 5, 4, 89, 7]\n",
      "After Cloning: [2, 5, 4, 89, 7]\n"
     ]
    }
   ],
   "source": [
    "def Cloning(li1):\n",
    "    li_copy = li1[:]\n",
    "    return li_copy\n",
    "  \n",
    "\n",
    "li1 = []\n",
    "n8 = int(input(\"Enter number of elements : \"))\n",
    "for i in range(0, n8):\n",
    "    ele8 = int(input())\n",
    "    li1.append(ele8)\n",
    "li2 = Cloning(li1)\n",
    "print(\"Original List:\", li1)\n",
    "print(\"After Cloning:\", li2)"
   ]
  },
  {
   "cell_type": "markdown",
   "id": "a82f5866",
   "metadata": {},
   "source": [
    "<b>------------------------------------------------------------------------------------------------------------------------------------------------------------------------------------------------------------------"
   ]
  },
  {
   "cell_type": "markdown",
   "id": "168060d3",
   "metadata": {},
   "source": [
    "<b>Number 11 - \n",
    "- Question -\n",
    "    \n",
    "> Write a Python program to Count occurrences of an element in a list?\n",
    "\n",
    "- Answer -\n",
    "    \n",
    ">\n",
    "\n"
   ]
  },
  {
   "cell_type": "code",
   "execution_count": 49,
   "id": "b78da0b0",
   "metadata": {},
   "outputs": [
    {
     "name": "stdout",
     "output_type": "stream",
     "text": [
      "Enter number of elements : 10\n",
      "1\n",
      "2\n",
      "2\n",
      "2\n",
      "5\n",
      "4\n",
      "5\n",
      "4\n",
      "5\n",
      "5\n",
      "Enter the number to see its count in the list: 5\n",
      "5 has occurred 4 times\n"
     ]
    }
   ],
   "source": [
    "def countX(lst8, x):\n",
    "    count = 0\n",
    "    for item in lst8:\n",
    "        if (item == x):\n",
    "            count = count + 1\n",
    "    return count\n",
    "lst8 = []\n",
    "n9 = int(input(\"Enter number of elements : \"))\n",
    "for i in range(0, n9):\n",
    "    ele9 = int(input())\n",
    "    lst8.append(ele9)\n",
    "x = int(input(\"Enter the number to see its count in the list: \"))\n",
    "print('{} has occurred {} times'.format(x, countX(lst8, x)))"
   ]
  },
  {
   "cell_type": "markdown",
   "id": "fcc2f170",
   "metadata": {},
   "source": [
    "<b>------------------------------------------------------------------------------------------------------------------------------------------------------------------------------------------------------------------"
   ]
  }
 ],
 "metadata": {
  "kernelspec": {
   "display_name": "Python 3",
   "language": "python",
   "name": "python3"
  },
  "language_info": {
   "codemirror_mode": {
    "name": "ipython",
    "version": 3
   },
   "file_extension": ".py",
   "mimetype": "text/x-python",
   "name": "python",
   "nbconvert_exporter": "python",
   "pygments_lexer": "ipython3",
   "version": "3.8.8"
  },
  "toc": {
   "base_numbering": 1,
   "nav_menu": {},
   "number_sections": true,
   "sideBar": true,
   "skip_h1_title": false,
   "title_cell": "Table of Contents",
   "title_sidebar": "Contents",
   "toc_cell": false,
   "toc_position": {},
   "toc_section_display": true,
   "toc_window_display": false
  }
 },
 "nbformat": 4,
 "nbformat_minor": 5
}
